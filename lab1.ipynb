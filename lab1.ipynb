{
 "cells": [
  {
   "cell_type": "code",
   "execution_count": 7,
   "metadata": {},
   "outputs": [
    {
     "name": "stdout",
     "output_type": "stream",
     "text": [
      "Array: [35 85  7 60 19 29 34 18 36 43]\n",
      "Max element: 85, Index: 1\n"
     ]
    }
   ],
   "source": [
    "import numpy as np\n",
    "\n",
    "# Задание 1: Заполнить одномерный массив случайными числами. Найти и вывести на экран наибольший его элемент и порядковый номер этого элемента.\n",
    "def task_1():\n",
    "    array = np.random.randint(1, 100, size=10)\n",
    "    max_element = np.max(array)\n",
    "    max_index = np.argmax(array)\n",
    "    print(f\"Array: {array}\")\n",
    "    print(f\"Max element: {max_element}, Index: {max_index}\")\n",
    "\n",
    "task_1()"
   ]
  },
  {
   "cell_type": "code",
   "execution_count": null,
   "metadata": {},
   "outputs": [],
   "source": [
    "# Задание 2: В массиве, содержащем положительные и отрицательные целые числа, вычислить сумму чётных положительных элементов.\n",
    "def task_2():\n",
    "    array = np.random.randint(-50, 50, size=10)\n",
    "    even_positive_sum = sum(x for x in array if x > 0 and x % 2 == 0)\n",
    "    print(f\"Array: {array}\")\n",
    "    print(f\"Sum of even positive elements: {even_positive_sum}\")\n",
    "\n",
    "task_2()"
   ]
  },
  {
   "cell_type": "code",
   "execution_count": null,
   "metadata": {},
   "outputs": [],
   "source": [
    "# Задание 3: Найти в массиве те элементы, значение которых меньше среднего арифметического, взятого от всех элементов массива.\n",
    "def task_3():\n",
    "    array = np.random.randint(1, 100, size=10)\n",
    "    average = np.mean(array)\n",
    "    smaller_elements = [x for x in array if x < average]\n",
    "    print(f\"Array: {array}\")\n",
    "    print(f\"Average: {average:.2f}\")\n",
    "    print(f\"Elements smaller than average: {smaller_elements}\")\n",
    "\n",
    "task_3()"
   ]
  },
  {
   "cell_type": "code",
   "execution_count": null,
   "metadata": {},
   "outputs": [],
   "source": [
    "# Задание 4: В одномерном массиве целых чисел определить два наименьших элемента. Они могут быть как равны между собой (оба являться минимальными), так и различаться.\n",
    "def task_4():\n",
    "    array = np.random.randint(1, 100, size=10)\n",
    "    sorted_array = np.sort(array)\n",
    "    smallest_two = sorted_array[:2]\n",
    "    print(f\"Array: {array}\")\n",
    "    print(f\"Two smallest elements: {smallest_two}\")\n",
    "\n",
    "task_4()"
   ]
  },
  {
   "cell_type": "code",
   "execution_count": 6,
   "metadata": {},
   "outputs": [
    {
     "name": "stdout",
     "output_type": "stream",
     "text": [
      "Array: [220 616 366 719 947 661 162 758 580  28]\n",
      "Sum of all digits: 134\n"
     ]
    }
   ],
   "source": [
    "# Задание 5: Найти сумму всех цифр целочисленного массива. Например, если дан массив [12, 104, 81], то сумма всех его цифр будет равна 1 + 2 + 1 + 0 + 4 + 8 + 1 = 17.\n",
    "def task_5():\n",
    "    array = np.random.randint(1, 1000, size=10)\n",
    "    digit_sum = sum(sum(int(digit) for digit in str(abs(x))) for x in array)\n",
    "    print(f\"Array: {array}\")\n",
    "    print(f\"Sum of all digits: {digit_sum}\")\n",
    "\n",
    "task_5()"
   ]
  },
  {
   "cell_type": "code",
   "execution_count": null,
   "metadata": {},
   "outputs": [],
   "source": [
    "# Задание 6: Найти среднее арифметическое положительных элементов массива.\n",
    "def task_6():\n",
    "    array = np.random.randint(-50, 50, size=10)\n",
    "    positive_elements = [x for x in array if x > 0]\n",
    "    if positive_elements:\n",
    "        mean_positive = sum(positive_elements) / len(positive_elements)\n",
    "    else:\n",
    "        mean_positive = 0\n",
    "    print(f\"Array: {array}\")\n",
    "    print(f\"Arithmetic mean of positive elements: {mean_positive:.2f}\")\n",
    "\n",
    "task_6()"
   ]
  },
  {
   "cell_type": "code",
   "execution_count": null,
   "metadata": {},
   "outputs": [],
   "source": [
    "# Задание 7: В массиве случайных целых чисел поменять местами минимальный и максимальный элементы.\n",
    "def task_7():\n",
    "    array = np.random.randint(1, 100, size=10)\n",
    "    min_index = np.argmin(array)\n",
    "    max_index = np.argmax(array)\n",
    "    array[min_index], array[max_index] = array[max_index], array[min_index]\n",
    "    print(f\"Original Array: {array}\")\n",
    "\n",
    "task_7()"
   ]
  },
  {
   "cell_type": "code",
   "execution_count": null,
   "metadata": {},
   "outputs": [],
   "source": [
    "# Задание 8: Найти сумму, произведение и среднее арифметическое элементов матрицы (двумерного массива).\n",
    "def task_8():\n",
    "    matrix = np.random.randint(1, 10, size=(3, 3))\n",
    "    matrix_sum = np.sum(matrix)\n",
    "    matrix_product = np.prod(matrix)\n",
    "    matrix_mean = np.mean(matrix)\n",
    "    print(f\"Matrix:\\n{matrix}\")\n",
    "    print(f\"Sum: {matrix_sum}, Product: {matrix_product}, Arithmetic Mean: {matrix_mean:.2f}\")\n",
    "\n",
    "task_8()"
   ]
  },
  {
   "cell_type": "code",
   "execution_count": null,
   "metadata": {},
   "outputs": [],
   "source": [
    "\n",
    "# Задание 9: Найти сумму элементов главной диагонали матрицы\n",
    "def task_9():\n",
    "    matrix = np.random.randint(1, 10, size=(3, 3))\n",
    "    diagonal_elements = np.diagonal(matrix)\n",
    "    diagonal_sum = np.sum(diagonal_elements)\n",
    "    print(f\"Matrix:\\n{matrix}\")\n",
    "    print(f\"Main diagonal elements: {diagonal_elements}\")\n",
    "    print(f\"Sum of main diagonal: {diagonal_sum}\")\n",
    "\n",
    "task_9()"
   ]
  }
 ],
 "metadata": {
  "kernelspec": {
   "display_name": "Python 3",
   "language": "python",
   "name": "python3"
  },
  "language_info": {
   "codemirror_mode": {
    "name": "ipython",
    "version": 3
   },
   "file_extension": ".py",
   "mimetype": "text/x-python",
   "name": "python",
   "nbconvert_exporter": "python",
   "pygments_lexer": "ipython3",
   "version": "3.10.12"
  }
 },
 "nbformat": 4,
 "nbformat_minor": 2
}
